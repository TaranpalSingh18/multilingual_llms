{
 "cells": [
  {
   "cell_type": "code",
   "execution_count": null,
   "id": "344d2a8f",
   "metadata": {},
   "outputs": [
    {
     "name": "stderr",
     "output_type": "stream",
     "text": [
      "c:\\Users\\HP\\OneDrive\\Desktop\\intent_classification\\.venv\\Lib\\site-packages\\tqdm\\auto.py:21: TqdmWarning: IProgress not found. Please update jupyter and ipywidgets. See https://ipywidgets.readthedocs.io/en/stable/user_install.html\n",
      "  from .autonotebook import tqdm as notebook_tqdm\n",
      "c:\\Users\\HP\\OneDrive\\Desktop\\intent_classification\\.venv\\Lib\\site-packages\\huggingface_hub\\file_download.py:143: UserWarning: `huggingface_hub` cache-system uses symlinks by default to efficiently store duplicated files but your machine does not support them in C:\\Users\\HP\\.cache\\huggingface\\hub\\models--xlm-roberta-base. Caching files will still work but in a degraded version that might require more space on your disk. This warning can be disabled by setting the `HF_HUB_DISABLE_SYMLINKS_WARNING` environment variable. For more details, see https://huggingface.co/docs/huggingface_hub/how-to-cache#limitations.\n",
      "To support symlinks on Windows, you either need to activate Developer Mode or to run Python as an administrator. In order to activate developer mode, see this article: https://docs.microsoft.com/en-us/windows/apps/get-started/enable-your-device-for-development\n",
      "  warnings.warn(message)\n",
      "Xet Storage is enabled for this repo, but the 'hf_xet' package is not installed. Falling back to regular HTTP download. For better performance, install the package with: `pip install huggingface_hub[hf_xet]` or `pip install hf_xet`\n"
     ]
    },
    {
     "name": "stdout",
     "output_type": "stream",
     "text": [
      "\n",
      "Gemini BERTScore:\n",
      "Precision: 0.8782\n",
      "Recall:    0.8804\n",
      "F1 Score:  0.8789\n",
      "\n",
      "GPT BERTScore:\n",
      "Precision: 0.8672\n",
      "Recall:    0.8556\n",
      "F1 Score:  0.8609\n",
      "\n",
      "Sarvam BERTScore:\n",
      "Precision: 0.8306\n",
      "Recall:    0.8533\n",
      "F1 Score:  0.8415\n"
     ]
    }
   ],
   "source": [
    "#BERT Score Calculations\n",
    "\n",
    "\n",
    "import pandas as pd\n",
    "from bert_score import score\n",
    "\n",
    "# Load your files (adjust paths if needed)\n",
    "df_truth = pd.read_excel(\"punjabi_and_intent.xlsx\")\n",
    "df_gemini = pd.read_excel(\"Gemini_Intent_Fixed.xlsx\")\n",
    "df_gpt = pd.read_excel(\"Gpt_Intent_Fixed.xlsx\")\n",
    "df_sarvam = pd.read_excel(\"Sarvam_Final_Intent.xlsx\")\n",
    "\n",
    "references = df_truth[\"002_pa\"].astype(str).tolist()\n",
    "models = {\n",
    "    \"Gemini\": df_gemini[\"Intent\"].astype(str).tolist(),\n",
    "    \"GPT\": df_gpt[\"Intent\"].astype(str).tolist(),\n",
    "    \"Sarvam\": df_sarvam[\"Intent\"].astype(str).tolist()\n",
    "}\n",
    "\n",
    "for name, candidates in models.items():\n",
    "    P, R, F1 = score(\n",
    "        candidates, references,\n",
    "        model_type='xlm-roberta-base',\n",
    "        lang='pa',  # Punjabi\n",
    "        verbose=False\n",
    "    )\n",
    "    print(f\"\\n{name} BERTScore:\")\n",
    "    print(f\"Precision: {P.mean().item():.4f}\")\n",
    "    print(f\"Recall:    {R.mean().item():.4f}\")\n",
    "    print(f\"F1 Score:  {F1.mean().item():.4f}\")\n"
   ]
  }
 ],
 "metadata": {
  "kernelspec": {
   "display_name": ".venv",
   "language": "python",
   "name": "python3"
  },
  "language_info": {
   "codemirror_mode": {
    "name": "ipython",
    "version": 3
   },
   "file_extension": ".py",
   "mimetype": "text/x-python",
   "name": "python",
   "nbconvert_exporter": "python",
   "pygments_lexer": "ipython3",
   "version": "3.13.2"
  }
 },
 "nbformat": 4,
 "nbformat_minor": 5
}
