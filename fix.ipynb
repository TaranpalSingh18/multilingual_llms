{
 "cells": [
  {
   "cell_type": "code",
   "execution_count": null,
   "id": "c517a6e4",
   "metadata": {},
   "outputs": [
    {
     "name": "stdout",
     "output_type": "stream",
     "text": [
      "✅ Done — INTENT column will NOT be corrupted now. Duplicates are handled.\n"
     ]
    }
   ],
   "source": [
    "#Code for pre-processing files\n",
    "#Gemini\n",
    "\n",
    "\n",
    "import pandas as pd\n",
    "\n",
    "# Load the files\n",
    "punjabi_df = pd.read_excel(\"punjabi_and_intent.xlsx\")\n",
    "gemini_df = pd.read_excel(\"Gemini_Intent.xlsx\")\n",
    "\n",
    "# Remove duplicate sentences → keep first\n",
    "gemini_df_unique = gemini_df.drop_duplicates(subset=\"Sentence\", keep=\"first\")\n",
    "\n",
    "# Build a lookup\n",
    "gemini_lookup = gemini_df_unique.set_index(\"Sentence\").to_dict(orient=\"index\")\n",
    "\n",
    "# Prepare list of rows in final order\n",
    "final_rows = []\n",
    "\n",
    "# Iterate over punjabi sentences, in order\n",
    "for sentence in punjabi_df[\"001_pa\"]:\n",
    "    if sentence in gemini_lookup:\n",
    "        # Safely copy the row\n",
    "        row_data = {col: gemini_lookup[sentence].get(col, \"\") for col in gemini_df.columns}\n",
    "        row_data[\"Sentence\"] = sentence\n",
    "    else:\n",
    "        # Missing → create blank row\n",
    "        row_data = {col: \"\" for col in gemini_df.columns}\n",
    "        row_data[\"Sentence\"] = sentence\n",
    "    final_rows.append(row_data)\n",
    "\n",
    "# Create final DataFrame\n",
    "final_df = pd.DataFrame(final_rows)\n",
    "\n",
    "# Save to Excel\n",
    "final_df.to_excel(\"Gemini_Intent_Fixed.xlsx\", index=False)\n",
    "\n",
    "print(\"✅ Done — INTENT column will NOT be corrupted now. Duplicates are handled.\")\n"
   ]
  },
  {
   "cell_type": "code",
   "execution_count": null,
   "id": "e6276b13",
   "metadata": {},
   "outputs": [
    {
     "name": "stdout",
     "output_type": "stream",
     "text": [
      "✅ Done — INTENT column will NOT be corrupted now. Duplicates are handled.\n"
     ]
    }
   ],
   "source": [
    "#Code for pre-processing files\n",
    "#GPT\n",
    "\n",
    "import pandas as pd\n",
    "\n",
    "# Load the files\n",
    "punjabi_df = pd.read_excel(\"punjabi_and_intent.xlsx\")\n",
    "gemini_df = pd.read_excel(\"gpt_metadata.xlsx\")\n",
    "\n",
    "# Remove duplicate sentences → keep first\n",
    "gemini_df_unique = gemini_df.drop_duplicates(subset=\"Sentence\", keep=\"first\")\n",
    "\n",
    "# Build a lookup\n",
    "gemini_lookup = gemini_df_unique.set_index(\"Sentence\").to_dict(orient=\"index\")\n",
    "\n",
    "# Prepare list of rows in final order\n",
    "final_rows = []\n",
    "\n",
    "# Iterate over punjabi sentences, in order\n",
    "for sentence in punjabi_df[\"001_pa\"]:\n",
    "    if sentence in gemini_lookup:\n",
    "        # Safely copy the row\n",
    "        row_data = {col: gemini_lookup[sentence].get(col, \"\") for col in gemini_df.columns}\n",
    "        row_data[\"Sentence\"] = sentence\n",
    "    else:\n",
    "        # Missing → create blank row\n",
    "        row_data = {col: \"\" for col in gemini_df.columns}\n",
    "        row_data[\"Sentence\"] = sentence\n",
    "    final_rows.append(row_data)\n",
    "\n",
    "# Create final DataFrame\n",
    "final_df = pd.DataFrame(final_rows)\n",
    "\n",
    "# Save to Excel\n",
    "final_df.to_excel(\"Gpt_Intent_Fixed.xlsx\", index=False)\n",
    "\n",
    "print(\"✅ Done — INTENT column will NOT be corrupted now. Duplicates are handled.\")\n"
   ]
  },
  {
   "cell_type": "code",
   "execution_count": null,
   "id": "25254900",
   "metadata": {},
   "outputs": [],
   "source": [
    "#Sarvam\n",
    "#needless"
   ]
  }
 ],
 "metadata": {
  "kernelspec": {
   "display_name": ".venv",
   "language": "python",
   "name": "python3"
  },
  "language_info": {
   "codemirror_mode": {
    "name": "ipython",
    "version": 3
   },
   "file_extension": ".py",
   "mimetype": "text/x-python",
   "name": "python",
   "nbconvert_exporter": "python",
   "pygments_lexer": "ipython3",
   "version": "3.13.2"
  }
 },
 "nbformat": 4,
 "nbformat_minor": 5
}
